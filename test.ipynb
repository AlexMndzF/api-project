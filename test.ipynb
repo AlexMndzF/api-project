{
 "cells": [
  {
   "cell_type": "code",
   "execution_count": 1,
   "metadata": {},
   "outputs": [],
   "source": [
    "import pandas as pd\n",
    "import json\n",
    "from functions.mongo import connectCollection\n",
    "from bson.objectid import ObjectId"
   ]
  },
  {
   "cell_type": "code",
   "execution_count": 2,
   "metadata": {},
   "outputs": [
    {
     "data": {
      "text/plain": [
       "<pymongo.results.InsertManyResult at 0x7f4c86e62f88>"
      ]
     },
     "execution_count": 2,
     "metadata": {},
     "output_type": "execute_result"
    }
   ],
   "source": [
    "'''db, coll = connectCollection('chats','messages')\n",
    "'''"
   ]
  },
  {
   "cell_type": "code",
   "execution_count": 3,
   "metadata": {},
   "outputs": [],
   "source": [
    "'''data = list(coll.find({}))'''"
   ]
  },
  {
   "cell_type": "code",
   "execution_count": 4,
   "metadata": {},
   "outputs": [
    {
     "data": {
      "text/plain": [
       "[{'User_id': 0, 'name': 'John Wick'},\n",
       " {'User_id': 6, 'name': 'Danny Torrances Finger'},\n",
       " {'User_id': 7, 'name': 'Danny Torrance'},\n",
       " {'User_id': 5, 'name': 'J. Jonah Jameson'},\n",
       " {'User_id': 1, 'name': 'Mike Wazowski'},\n",
       " {'User_id': 2, 'name': 'Leia Organa'},\n",
       " {'User_id': 4, 'name': 'Ellen Ripley'},\n",
       " {'User_id': 3, 'name': 'Tony Stark'}]"
      ]
     },
     "execution_count": 4,
     "metadata": {},
     "output_type": "execute_result"
    }
   ],
   "source": [
    "'''namelst=[]\n",
    "for i in range(len(data)):\n",
    "    name = data[i]['userName']\n",
    "    userid = data[i]['idUser']\n",
    "    tup = (userid,name)\n",
    "    namelst.append(tup)\n",
    "namelst = set(namelst)\n",
    "lst = []\n",
    "for e in namelst:\n",
    "    uid = e[0]\n",
    "    name= e[1]\n",
    "    dictionary = {\n",
    "        'User_id':uid,\n",
    "        'name': name\n",
    "    }\n",
    "    lst.append(dictionary)\n",
    "lst'''"
   ]
  },
  {
   "cell_type": "code",
   "execution_count": 5,
   "metadata": {},
   "outputs": [
    {
     "data": {
      "text/plain": [
       "\"with open('./output/users.json', 'w') as fp:\\n    json.dump(lst, fp)\""
      ]
     },
     "execution_count": 5,
     "metadata": {},
     "output_type": "execute_result"
    }
   ],
   "source": [
    "'''db, collus = connectCollection('chats','users')\n",
    "with open('./output/users.json', 'w') as fp:\n",
    "    json.dump(lst, fp)'''"
   ]
  },
  {
   "cell_type": "code",
   "execution_count": 6,
   "metadata": {},
   "outputs": [
    {
     "data": {
      "text/plain": [
       "\"with open('./output/users.json') as f:\\n    users_json = json.load(f)\\ncollus.insert_many(users_json)\""
      ]
     },
     "execution_count": 6,
     "metadata": {},
     "output_type": "execute_result"
    }
   ],
   "source": [
    "'''with open('./output/users.json') as f:\n",
    "    users_json = json.load(f)\n",
    "collus.insert_many(users_json)'''"
   ]
  },
  {
   "cell_type": "code",
   "execution_count": 7,
   "metadata": {},
   "outputs": [
    {
     "data": {
      "text/plain": [
       "{4: ObjectId('5de167288a94224a1624bb11'),\n",
       " 0: ObjectId('5de167288a94224a1624bb12'),\n",
       " 7: ObjectId('5de167288a94224a1624bb13'),\n",
       " 2: ObjectId('5de167288a94224a1624bb14'),\n",
       " 3: ObjectId('5de167288a94224a1624bb15'),\n",
       " 1: ObjectId('5de167288a94224a1624bb16'),\n",
       " 6: ObjectId('5de167288a94224a1624bb17'),\n",
       " 5: ObjectId('5de167288a94224a1624bb18')}"
      ]
     },
     "execution_count": 7,
     "metadata": {},
     "output_type": "execute_result"
    }
   ],
   "source": [
    "'''usersdata = list(collus.find({}))\n",
    "dic_ids = {}\n",
    "for i in range(len(usersdata)):\n",
    "    user = usersdata[i].get('User_id')\n",
    "    objid = usersdata[i].get('_id')\n",
    "    dic_ids[user]=objid\n",
    "dic_ids\n",
    "    '''"
   ]
  },
  {
   "cell_type": "code",
   "execution_count": 8,
   "metadata": {},
   "outputs": [],
   "source": [
    "'''for i in range(len(data)):\n",
    "    idu = dic_ids.get(data[i]['idUser'])\n",
    "    value = {\"$set\":{'idUser':idu}}\n",
    "    coll.update_one(data[i],value)'''"
   ]
  },
  {
   "cell_type": "code",
   "execution_count": 9,
   "metadata": {},
   "outputs": [
    {
     "data": {
      "text/plain": [
       "{'_id': ObjectId('5de262d3424383d703c69e0c'),\n",
       " 'idUser': ObjectId('5de167288a94224a1624bb12'),\n",
       " 'userName': 'John Wick',\n",
       " 'idMessage': 0,\n",
       " 'idChat': 0,\n",
       " 'datetime': '2019-10-17 10:15:41',\n",
       " 'text': 'Hey Mike, whats up??'}"
      ]
     },
     "execution_count": 9,
     "metadata": {},
     "output_type": "execute_result"
    }
   ],
   "source": [
    "'''db, coll = connectCollection('chats','messages')\n",
    "data = list(coll.find({}))\n",
    "data[0]'''"
   ]
  },
  {
   "cell_type": "code",
   "execution_count": 10,
   "metadata": {},
   "outputs": [],
   "source": [
    "'''chatlst = []\n",
    "for i in range(len(data)):\n",
    "    idc = data[i]['idChat']\n",
    "    name = f'chat-{idc}'\n",
    "    chatlst.append((name,idc))\n",
    "chatlst=list(set(chatlst))\n",
    "chatlst\n",
    "lst = []\n",
    "for e in chatlst:\n",
    "    idc = e[1]\n",
    "    name= e[0]\n",
    "    dictionary = {\n",
    "        'Chat_id':idc,\n",
    "        'name': name\n",
    "    }\n",
    "    lst.append(dictionary)'''"
   ]
  },
  {
   "cell_type": "code",
   "execution_count": 11,
   "metadata": {},
   "outputs": [],
   "source": [
    "'''db, collchat = connectCollection('chats','chats')\n",
    "with open('./output/chats_id.json', 'w') as fp:\n",
    "    json.dump(lst, fp)'''"
   ]
  },
  {
   "cell_type": "code",
   "execution_count": 12,
   "metadata": {},
   "outputs": [
    {
     "data": {
      "text/plain": [
       "<pymongo.results.InsertManyResult at 0x7f4c86e75a48>"
      ]
     },
     "execution_count": 12,
     "metadata": {},
     "output_type": "execute_result"
    }
   ],
   "source": [
    "'''with open('./output/chats_id.json') as f:\n",
    "    chats_json = json.load(f)\n",
    "collchat.insert_many(chats_json)'''"
   ]
  },
  {
   "cell_type": "code",
   "execution_count": 13,
   "metadata": {},
   "outputs": [
    {
     "data": {
      "text/plain": [
       "[{'_id': ObjectId('5de2541261cefbb4c0b9364e'), 'Chat_id': 2, 'name': 'chat-2'},\n",
       " {'_id': ObjectId('5de2541261cefbb4c0b9364f'), 'Chat_id': 4, 'name': 'chat-4'},\n",
       " {'_id': ObjectId('5de2541261cefbb4c0b93650'), 'Chat_id': 1, 'name': 'chat-1'},\n",
       " {'_id': ObjectId('5de2541261cefbb4c0b93651'), 'Chat_id': 0, 'name': 'chat-0'},\n",
       " {'_id': ObjectId('5de2541261cefbb4c0b93652'), 'Chat_id': 3, 'name': 'chat-3'},\n",
       " {'_id': ObjectId('5de262ec424383d703c69e3e'), 'Chat_id': 3, 'name': 'chat-3'},\n",
       " {'_id': ObjectId('5de262ec424383d703c69e3f'), 'Chat_id': 0, 'name': 'chat-0'},\n",
       " {'_id': ObjectId('5de262ec424383d703c69e40'), 'Chat_id': 4, 'name': 'chat-4'},\n",
       " {'_id': ObjectId('5de262ec424383d703c69e41'), 'Chat_id': 2, 'name': 'chat-2'},\n",
       " {'_id': ObjectId('5de262ec424383d703c69e42'), 'Chat_id': 1, 'name': 'chat-1'}]"
      ]
     },
     "execution_count": 13,
     "metadata": {},
     "output_type": "execute_result"
    }
   ],
   "source": [
    "'''datachat = list(collchat.find({}))\n",
    "datachat'''"
   ]
  },
  {
   "cell_type": "code",
   "execution_count": 14,
   "metadata": {},
   "outputs": [
    {
     "data": {
      "text/plain": [
       "{2: ObjectId('5de262ec424383d703c69e41'),\n",
       " 4: ObjectId('5de262ec424383d703c69e40'),\n",
       " 1: ObjectId('5de262ec424383d703c69e42'),\n",
       " 0: ObjectId('5de262ec424383d703c69e3f'),\n",
       " 3: ObjectId('5de262ec424383d703c69e3e')}"
      ]
     },
     "execution_count": 14,
     "metadata": {},
     "output_type": "execute_result"
    }
   ],
   "source": [
    "'''dic_ids_chat={}\n",
    "for i in range(len(datachat)):\n",
    "    chat = datachat[i].get('Chat_id')\n",
    "    objid_chat = datachat[i].get('_id')\n",
    "    dic_ids_chat[chat]=objid_chat\n",
    "dic_ids_chat'''"
   ]
  },
  {
   "cell_type": "code",
   "execution_count": 15,
   "metadata": {},
   "outputs": [
    {
     "data": {
      "text/plain": [
       "{'_id': ObjectId('5de155758a94224a1624b8fd'),\n",
       " 'User_id': 4,\n",
       " 'name': 'Ellen Ripley'}"
      ]
     },
     "execution_count": 15,
     "metadata": {},
     "output_type": "execute_result"
    }
   ],
   "source": []
  },
  {
   "cell_type": "code",
   "execution_count": 19,
   "metadata": {},
   "outputs": [],
   "source": [
    "'''for i in range(len(data)):\n",
    "    idu = dic_ids_chat.get(data[i]['idChat'])\n",
    "    value = {\"$set\":{'idChat':idu}}\n",
    "    coll.update_one(data[i],value)'''"
   ]
  },
  {
   "cell_type": "code",
   "execution_count": 2,
   "metadata": {},
   "outputs": [],
   "source": [
    "db, coll = connectCollection('chats','messages')\n",
    "db, collus = connectCollection('chats','users')\n",
    "db, collchat = connectCollection('chats','chats')\n",
    "data = list(coll.find({}))\n",
    "datatachat = list(collchat.find({}))\n",
    "usersdata = list(collus.find({}))"
   ]
  },
  {
   "cell_type": "code",
   "execution_count": 3,
   "metadata": {},
   "outputs": [
    {
     "data": {
      "text/plain": [
       "ObjectId('5de262ec424383d703c69e3f')"
      ]
     },
     "execution_count": 3,
     "metadata": {},
     "output_type": "execute_result"
    }
   ],
   "source": [
    "chatid_data = list(collchat.find({'Chat_id':0}))\n",
    "chatid_data[0].get('_id')"
   ]
  },
  {
   "cell_type": "code",
   "execution_count": 41,
   "metadata": {},
   "outputs": [
    {
     "data": {
      "text/plain": [
       "[{'name': 'John Wick',\n",
       "  'message': 'Hey Mike, whats up??',\n",
       "  'date': '2019-10-17 10:15:41'},\n",
       " {'name': 'Mike Wazowski',\n",
       "  'message': 'Dude!!! 😀️ Did you watch the game last night?',\n",
       "  'date': '2019-10-17 10:16:59'},\n",
       " {'name': 'John Wick',\n",
       "  'message': 'No, had to work. How was it?',\n",
       "  'date': '2019-10-17 10:17:31'},\n",
       " {'name': 'Mike Wazowski',\n",
       "  'message': 'Awesome! Boyander scored 3 goals!',\n",
       "  'date': '2019-10-17 10:18:41'},\n",
       " {'name': 'John Wick', 'message': 'No way! 😮️', 'date': '2019-10-17 10:19:41'},\n",
       " {'name': 'Mike Wazowski', 'message': 'Way...', 'date': '2019-10-17 10:20:41'},\n",
       " {'name': 'John Wick',\n",
       "  'message': 'I bet people went crazy',\n",
       "  'date': '2019-10-17 10:21:41'},\n",
       " {'name': 'Mike Wazowski',\n",
       "  'message': 'For sure. We stayed at KuboLoco until 6AM.',\n",
       "  'date': '2019-10-17 10:22:41'},\n",
       " {'name': 'John Wick',\n",
       "  'message': 'Motherfucker! Hungover? 😵️',\n",
       "  'date': '2019-10-17 10:23:41'},\n",
       " {'name': 'Mike Wazowski',\n",
       "  'message': 'Dead, burried and still suffering! \\U0001f92e️',\n",
       "  'date': '2019-10-17 10:24:41'}]"
      ]
     },
     "execution_count": 41,
     "metadata": {},
     "output_type": "execute_result"
    }
   ],
   "source": [
    "chat_data = list(coll.find({'idChat':ObjectId('5de262ec424383d703c69e3f')}))\n",
    "ret = []\n",
    "for i in range(len(chat_data)):\n",
    "    name = chat_data[i].get('userName')\n",
    "    message = chat_data[i].get('text')\n",
    "    date = chat_data[i].get('datetime')\n",
    "    dic = {\n",
    "        'name':name,\n",
    "        'message':message,\n",
    "        'date':date\n",
    "    }\n",
    "    ret.append(dic)\n",
    "ret"
   ]
  },
  {
   "cell_type": "code",
   "execution_count": 42,
   "metadata": {},
   "outputs": [
    {
     "data": {
      "text/plain": [
       "'/chat/<chat_id>/list'"
      ]
     },
     "execution_count": 42,
     "metadata": {},
     "output_type": "execute_result"
    }
   ],
   "source": []
  },
  {
   "cell_type": "code",
   "execution_count": 43,
   "metadata": {},
   "outputs": [
    {
     "data": {
      "text/plain": [
       "{'John Wick_2019-10-17 10:15:41': 'Hey Mike, whats up??',\n",
       " 'Mike Wazowski_2019-10-17 10:16:59': 'Dude!!! 😀️ Did you watch the game last night?',\n",
       " 'John Wick_2019-10-17 10:17:31': 'No, had to work. How was it?',\n",
       " 'Mike Wazowski_2019-10-17 10:18:41': 'Awesome! Boyander scored 3 goals!',\n",
       " 'John Wick_2019-10-17 10:19:41': 'No way! 😮️',\n",
       " 'Mike Wazowski_2019-10-17 10:20:41': 'Way...',\n",
       " 'John Wick_2019-10-17 10:21:41': 'I bet people went crazy',\n",
       " 'Mike Wazowski_2019-10-17 10:22:41': 'For sure. We stayed at KuboLoco until 6AM.',\n",
       " 'John Wick_2019-10-17 10:23:41': 'Motherfucker! Hungover? 😵️',\n",
       " 'Mike Wazowski_2019-10-17 10:24:41': 'Dead, burried and still suffering! \\U0001f92e️'}"
      ]
     },
     "execution_count": 43,
     "metadata": {},
     "output_type": "execute_result"
    }
   ],
   "source": [
    "import requests\n",
    "data = requests.get('http://localhost:8080/chat/0/list').json()\n",
    "data\n"
   ]
  },
  {
   "cell_type": "code",
   "execution_count": null,
   "metadata": {},
   "outputs": [],
   "source": []
  }
 ],
 "metadata": {
  "kernelspec": {
   "display_name": "Python 3",
   "language": "python",
   "name": "python3"
  },
  "language_info": {
   "codemirror_mode": {
    "name": "ipython",
    "version": 3
   },
   "file_extension": ".py",
   "mimetype": "text/x-python",
   "name": "python",
   "nbconvert_exporter": "python",
   "pygments_lexer": "ipython3",
   "version": "3.6.9"
  }
 },
 "nbformat": 4,
 "nbformat_minor": 2
}
