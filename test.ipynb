{
 "cells": [
  {
   "cell_type": "code",
   "execution_count": 121,
   "metadata": {},
   "outputs": [],
   "source": [
    "import pandas as pd\n",
    "import json\n",
    "from functions.mongo import connectCollection\n",
    "from bson.objectid import ObjectId"
   ]
  },
  {
   "cell_type": "code",
   "execution_count": 142,
   "metadata": {},
   "outputs": [
    {
     "data": {
      "text/plain": [
       "<pymongo.results.InsertManyResult at 0x7fb3b0c77448>"
      ]
     },
     "execution_count": 142,
     "metadata": {},
     "output_type": "execute_result"
    }
   ],
   "source": [
    "# connecting to database and charging the original database\n",
    "db, coll = connectCollection('chats','messages')\n",
    "\n",
    "with open('./input/chats.json') as f:\n",
    "    chats_json = json.load(f)\n",
    "coll.insert_many(chats_json)"
   ]
  },
  {
   "cell_type": "code",
   "execution_count": 135,
   "metadata": {},
   "outputs": [],
   "source": [
    "data = list(coll.find({}))"
   ]
  },
  {
   "cell_type": "code",
   "execution_count": 136,
   "metadata": {},
   "outputs": [
    {
     "data": {
      "text/plain": [
       "[{'User_id': 4, 'name': 'Ellen Ripley'},\n",
       " {'User_id': 0, 'name': 'John Wick'},\n",
       " {'User_id': 7, 'name': 'Danny Torrance'},\n",
       " {'User_id': 2, 'name': 'Leia Organa'},\n",
       " {'User_id': 3, 'name': 'Tony Stark'},\n",
       " {'User_id': 1, 'name': 'Mike Wazowski'},\n",
       " {'User_id': 6, 'name': 'Danny Torrances Finger'},\n",
       " {'User_id': 5, 'name': 'J. Jonah Jameson'}]"
      ]
     },
     "execution_count": 136,
     "metadata": {},
     "output_type": "execute_result"
    }
   ],
   "source": [
    "namelst=[]\n",
    "for i in range(len(data)):\n",
    "    name = data[i]['userName']\n",
    "    userid = data[i]['idUser']\n",
    "    tup = (userid,name)\n",
    "    namelst.append(tup)\n",
    "namelst = set(namelst)\n",
    "lst = []\n",
    "for e in namelst:\n",
    "    uid = e[0]\n",
    "    name= e[1]\n",
    "    dictionary = {\n",
    "        'User_id':uid,\n",
    "        'name': name\n",
    "    }\n",
    "    lst.append(dictionary)\n",
    "lst"
   ]
  },
  {
   "cell_type": "code",
   "execution_count": 137,
   "metadata": {},
   "outputs": [],
   "source": [
    "db, collus = connectCollection('chats','users')\n",
    "with open('output/users.json', 'w') as fp:\n",
    "    json.dump(lst, fp)"
   ]
  },
  {
   "cell_type": "code",
   "execution_count": 138,
   "metadata": {},
   "outputs": [
    {
     "data": {
      "text/plain": [
       "<pymongo.results.InsertManyResult at 0x7fb3b03775c8>"
      ]
     },
     "execution_count": 138,
     "metadata": {},
     "output_type": "execute_result"
    }
   ],
   "source": [
    "with open('./output/users.json') as f:\n",
    "    users_json = json.load(f)\n",
    "collus.insert_many(users_json)"
   ]
  },
  {
   "cell_type": "code",
   "execution_count": 139,
   "metadata": {},
   "outputs": [
    {
     "data": {
      "text/plain": [
       "{4: ObjectId('5de167288a94224a1624bb11'),\n",
       " 0: ObjectId('5de167288a94224a1624bb12'),\n",
       " 7: ObjectId('5de167288a94224a1624bb13'),\n",
       " 2: ObjectId('5de167288a94224a1624bb14'),\n",
       " 3: ObjectId('5de167288a94224a1624bb15'),\n",
       " 1: ObjectId('5de167288a94224a1624bb16'),\n",
       " 6: ObjectId('5de167288a94224a1624bb17'),\n",
       " 5: ObjectId('5de167288a94224a1624bb18')}"
      ]
     },
     "execution_count": 139,
     "metadata": {},
     "output_type": "execute_result"
    }
   ],
   "source": [
    "usersdata = list(collus.find({}))\n",
    "dic_ids = {}\n",
    "for i in range(len(usersdata)):\n",
    "    user = usersdata[i].get('User_id')\n",
    "    objid = usersdata[i].get('_id')\n",
    "    dic_ids[user]=objid\n",
    "dic_ids\n",
    "    "
   ]
  },
  {
   "cell_type": "code",
   "execution_count": 140,
   "metadata": {},
   "outputs": [],
   "source": [
    "for i in range(len(data)):\n",
    "    idu = dic_ids.get(data[i]['idUser'])\n",
    "    value = {\"$set\":{'idUser':idu}}\n",
    "    coll.update_one(data[i],value)"
   ]
  },
  {
   "cell_type": "code",
   "execution_count": null,
   "metadata": {},
   "outputs": [],
   "source": []
  },
  {
   "cell_type": "code",
   "execution_count": null,
   "metadata": {},
   "outputs": [],
   "source": []
  }
 ],
 "metadata": {
  "kernelspec": {
   "display_name": "Python 3",
   "language": "python",
   "name": "python3"
  },
  "language_info": {
   "codemirror_mode": {
    "name": "ipython",
    "version": 3
   },
   "file_extension": ".py",
   "mimetype": "text/x-python",
   "name": "python",
   "nbconvert_exporter": "python",
   "pygments_lexer": "ipython3",
   "version": "3.6.8"
  }
 },
 "nbformat": 4,
 "nbformat_minor": 2
}
