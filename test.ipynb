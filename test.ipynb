{
 "cells": [
  {
   "cell_type": "code",
   "execution_count": 1,
   "metadata": {},
   "outputs": [],
   "source": [
    "import pandas as pd\n",
    "import json\n",
    "from functions.mongo import connectCollection\n",
    "from bson.objectid import ObjectId"
   ]
  },
  {
   "cell_type": "code",
   "execution_count": 6,
   "metadata": {},
   "outputs": [
    {
     "data": {
      "text/plain": [
       "<pymongo.results.InsertManyResult at 0x7f03a7dd11c8>"
      ]
     },
     "execution_count": 6,
     "metadata": {},
     "output_type": "execute_result"
    }
   ],
   "source": [
    "db, coll = connectCollection('chats','messages')\n",
    "with open('./input/chats.json') as f:\n",
    "    chats_json = json.load(f)\n",
    "coll.insert_many(chats_json)"
   ]
  },
  {
   "cell_type": "code",
   "execution_count": 7,
   "metadata": {},
   "outputs": [],
   "source": [
    "data = list(coll.find({}))"
   ]
  },
  {
   "cell_type": "code",
   "execution_count": 8,
   "metadata": {},
   "outputs": [
    {
     "data": {
      "text/plain": [
       "[{'User_id': 1, 'name': 'Mike Wazowski'},\n",
       " {'User_id': 6, 'name': 'Danny Torrances Finger'},\n",
       " {'User_id': 2, 'name': 'Leia Organa'},\n",
       " {'User_id': 7, 'name': 'Danny Torrance'},\n",
       " {'User_id': 4, 'name': 'Ellen Ripley'},\n",
       " {'User_id': 0, 'name': 'John Wick'},\n",
       " {'User_id': 5, 'name': 'J. Jonah Jameson'},\n",
       " {'User_id': 3, 'name': 'Tony Stark'}]"
      ]
     },
     "execution_count": 8,
     "metadata": {},
     "output_type": "execute_result"
    }
   ],
   "source": [
    "namelst=[]\n",
    "for i in range(len(data)):\n",
    "    name = data[i]['userName']\n",
    "    userid = data[i]['idUser']\n",
    "    tup = (userid,name)\n",
    "    namelst.append(tup)\n",
    "namelst = set(namelst)\n",
    "lst = []\n",
    "for e in namelst:\n",
    "    uid = e[0]\n",
    "    name= e[1]\n",
    "    dictionary = {\n",
    "        'User_id':uid,\n",
    "        'name': name\n",
    "    }\n",
    "    lst.append(dictionary)\n",
    "lst"
   ]
  },
  {
   "cell_type": "code",
   "execution_count": 9,
   "metadata": {},
   "outputs": [],
   "source": [
    "db, collus = connectCollection('chats','users')\n",
    "with open('./output/users.json', 'w') as fp:\n",
    "    json.dump(lst, fp)"
   ]
  },
  {
   "cell_type": "code",
   "execution_count": 10,
   "metadata": {},
   "outputs": [
    {
     "data": {
      "text/plain": [
       "<pymongo.results.InsertManyResult at 0x7f03a54f8d48>"
      ]
     },
     "execution_count": 10,
     "metadata": {},
     "output_type": "execute_result"
    }
   ],
   "source": [
    "with open('./output/users.json') as f:\n",
    "    users_json = json.load(f)\n",
    "collus.insert_many(users_json)"
   ]
  },
  {
   "cell_type": "code",
   "execution_count": 11,
   "metadata": {},
   "outputs": [
    {
     "data": {
      "text/plain": [
       "{1: ObjectId('5de2b4683693df9affe7ee54'),\n",
       " 6: ObjectId('5de2b4683693df9affe7ee55'),\n",
       " 2: ObjectId('5de2b4683693df9affe7ee56'),\n",
       " 7: ObjectId('5de2b4683693df9affe7ee57'),\n",
       " 4: ObjectId('5de2b4683693df9affe7ee58'),\n",
       " 0: ObjectId('5de2b4683693df9affe7ee59'),\n",
       " 5: ObjectId('5de2b4683693df9affe7ee5a'),\n",
       " 3: ObjectId('5de2b4683693df9affe7ee5b')}"
      ]
     },
     "execution_count": 11,
     "metadata": {},
     "output_type": "execute_result"
    }
   ],
   "source": [
    "usersdata = list(collus.find({}))\n",
    "dic_ids = {}\n",
    "for i in range(len(usersdata)):\n",
    "    user = usersdata[i].get('User_id')\n",
    "    objid = usersdata[i].get('_id')\n",
    "    dic_ids[user]=objid\n",
    "dic_ids"
   ]
  },
  {
   "cell_type": "code",
   "execution_count": 12,
   "metadata": {},
   "outputs": [],
   "source": [
    "for i in range(len(data)):\n",
    "    idu = dic_ids.get(data[i]['idUser'])\n",
    "    value = {\"$set\":{'idUser':idu}}\n",
    "    coll.update_one(data[i],value)"
   ]
  },
  {
   "cell_type": "code",
   "execution_count": 13,
   "metadata": {},
   "outputs": [
    {
     "data": {
      "text/plain": [
       "{'_id': ObjectId('5de2b4613693df9affe7ee22'),\n",
       " 'idUser': ObjectId('5de2b4683693df9affe7ee59'),\n",
       " 'userName': 'John Wick',\n",
       " 'idMessage': 0,\n",
       " 'idChat': 0,\n",
       " 'datetime': '2019-10-17 10:15:41',\n",
       " 'text': 'Hey Mike, whats up??'}"
      ]
     },
     "execution_count": 13,
     "metadata": {},
     "output_type": "execute_result"
    }
   ],
   "source": [
    "db, coll = connectCollection('chats','messages')\n",
    "data = list(coll.find({}))\n",
    "data[0]"
   ]
  },
  {
   "cell_type": "code",
   "execution_count": 14,
   "metadata": {},
   "outputs": [],
   "source": [
    "chatlst = []\n",
    "for i in range(len(data)):\n",
    "    idc = data[i]['idChat']\n",
    "    name = f'chat-{idc}'\n",
    "    chatlst.append((name,idc))\n",
    "chatlst=list(set(chatlst))\n",
    "chatlst\n",
    "lst = []\n",
    "for e in chatlst:\n",
    "    idc = e[1]\n",
    "    name= e[0]\n",
    "    dictionary = {\n",
    "        'Chat_id':idc,\n",
    "        'name': name\n",
    "    }\n",
    "    lst.append(dictionary)"
   ]
  },
  {
   "cell_type": "code",
   "execution_count": 15,
   "metadata": {},
   "outputs": [],
   "source": [
    "db, collchat = connectCollection('chats','chats')\n",
    "with open('./output/chats_id.json', 'w') as fp:\n",
    "    json.dump(lst, fp)"
   ]
  },
  {
   "cell_type": "code",
   "execution_count": 16,
   "metadata": {},
   "outputs": [
    {
     "data": {
      "text/plain": [
       "<pymongo.results.InsertManyResult at 0x7f03a5535e48>"
      ]
     },
     "execution_count": 16,
     "metadata": {},
     "output_type": "execute_result"
    }
   ],
   "source": [
    "with open('./output/chats_id.json') as f:\n",
    "    chats_json = json.load(f)\n",
    "collchat.insert_many(chats_json)"
   ]
  },
  {
   "cell_type": "code",
   "execution_count": 17,
   "metadata": {},
   "outputs": [
    {
     "data": {
      "text/plain": [
       "[{'_id': ObjectId('5de2b4713693df9affe7ee5c'), 'Chat_id': 0, 'name': 'chat-0'},\n",
       " {'_id': ObjectId('5de2b4713693df9affe7ee5d'), 'Chat_id': 2, 'name': 'chat-2'},\n",
       " {'_id': ObjectId('5de2b4713693df9affe7ee5e'), 'Chat_id': 1, 'name': 'chat-1'},\n",
       " {'_id': ObjectId('5de2b4713693df9affe7ee5f'), 'Chat_id': 4, 'name': 'chat-4'},\n",
       " {'_id': ObjectId('5de2b4713693df9affe7ee60'), 'Chat_id': 3, 'name': 'chat-3'}]"
      ]
     },
     "execution_count": 17,
     "metadata": {},
     "output_type": "execute_result"
    }
   ],
   "source": [
    "datachat = list(collchat.find({}))\n",
    "datachat"
   ]
  },
  {
   "cell_type": "code",
   "execution_count": 18,
   "metadata": {},
   "outputs": [
    {
     "data": {
      "text/plain": [
       "{0: ObjectId('5de2b4713693df9affe7ee5c'),\n",
       " 2: ObjectId('5de2b4713693df9affe7ee5d'),\n",
       " 1: ObjectId('5de2b4713693df9affe7ee5e'),\n",
       " 4: ObjectId('5de2b4713693df9affe7ee5f'),\n",
       " 3: ObjectId('5de2b4713693df9affe7ee60')}"
      ]
     },
     "execution_count": 18,
     "metadata": {},
     "output_type": "execute_result"
    }
   ],
   "source": [
    "dic_ids_chat={}\n",
    "for i in range(len(datachat)):\n",
    "    chat = datachat[i].get('Chat_id')\n",
    "    objid_chat = datachat[i].get('_id')\n",
    "    dic_ids_chat[chat]=objid_chat\n",
    "dic_ids_chat"
   ]
  },
  {
   "cell_type": "code",
   "execution_count": null,
   "metadata": {},
   "outputs": [],
   "source": []
  },
  {
   "cell_type": "code",
   "execution_count": 19,
   "metadata": {},
   "outputs": [],
   "source": [
    "for i in range(len(data)):\n",
    "    idu = dic_ids_chat.get(data[i]['idChat'])\n",
    "    value = {\"$set\":{'idChat':idu}}\n",
    "    coll.update_one(data[i],value)"
   ]
  },
  {
   "cell_type": "code",
   "execution_count": 35,
   "metadata": {},
   "outputs": [],
   "source": [
    "db, coll = connectCollection('chats','messages')\n",
    "db, collus = connectCollection('chats','users')\n",
    "db, collchat = connectCollection('chats','chats')\n",
    "data = list(coll.find({}))\n",
    "datatachat = list(collchat.find({}))\n",
    "usersdata = list(collus.find({}))"
   ]
  },
  {
   "cell_type": "code",
   "execution_count": 36,
   "metadata": {},
   "outputs": [
    {
     "data": {
      "text/plain": [
       "ObjectId('5de2b4713693df9affe7ee5c')"
      ]
     },
     "execution_count": 36,
     "metadata": {},
     "output_type": "execute_result"
    }
   ],
   "source": [
    "chatid_data = list(collchat.find({'Chat_id':0}))\n",
    "chatid_data[0].get('_id')"
   ]
  },
  {
   "cell_type": "code",
   "execution_count": 37,
   "metadata": {},
   "outputs": [
    {
     "data": {
      "text/plain": [
       "[]"
      ]
     },
     "execution_count": 37,
     "metadata": {},
     "output_type": "execute_result"
    }
   ],
   "source": [
    "chat_data = list(coll.find({'idChat':ObjectId('5de262ec424383d703c69e3f')}))\n",
    "ret = []\n",
    "for i in range(len(chat_data)):\n",
    "    name = chat_data[i].get('userName')\n",
    "    message = chat_data[i].get('text')\n",
    "    date = chat_data[i].get('datetime')\n",
    "    dic = {\n",
    "        'name':name,\n",
    "        'message':message,\n",
    "        'date':date\n",
    "    }\n",
    "    ret.append(dic)\n",
    "ret"
   ]
  },
  {
   "cell_type": "code",
   "execution_count": null,
   "metadata": {},
   "outputs": [],
   "source": []
  },
  {
   "cell_type": "code",
   "execution_count": 38,
   "metadata": {},
   "outputs": [
    {
     "data": {
      "text/plain": [
       "{'John Wick_2019-10-17 10:15:41': 'Hey Mike, whats up??',\n",
       " 'Mike Wazowski_2019-10-17 10:16:59': 'Dude!!! 😀️ Did you watch the game last night?',\n",
       " 'John Wick_2019-10-17 10:17:31': 'No, had to work. How was it?',\n",
       " 'Mike Wazowski_2019-10-17 10:18:41': 'Awesome! Boyander scored 3 goals!',\n",
       " 'John Wick_2019-10-17 10:19:41': 'No way! 😮️',\n",
       " 'Mike Wazowski_2019-10-17 10:20:41': 'Way...',\n",
       " 'John Wick_2019-10-17 10:21:41': 'I bet people went crazy',\n",
       " 'Mike Wazowski_2019-10-17 10:22:41': 'For sure. We stayed at KuboLoco until 6AM.',\n",
       " 'John Wick_2019-10-17 10:23:41': 'Motherfucker! Hungover? 😵️',\n",
       " 'Mike Wazowski_2019-10-17 10:24:41': 'Dead, burried and still suffering! \\U0001f92e️'}"
      ]
     },
     "execution_count": 38,
     "metadata": {},
     "output_type": "execute_result"
    }
   ],
   "source": [
    "import requests\n",
    "data = requests.get('http://localhost:8080/chat/0/list').json()\n",
    "data\n"
   ]
  },
  {
   "cell_type": "code",
   "execution_count": 39,
   "metadata": {},
   "outputs": [
    {
     "data": {
      "text/plain": [
       "'{\"idUser\": \"334\", \"userName\": \"Julio\", \"idMessage\": \"100\", \"idChat\": \"10\", \"datetime\": \"2019-10-17 10:15:41\", \"text\": \"Hey!\"}'"
      ]
     },
     "execution_count": 39,
     "metadata": {},
     "output_type": "execute_result"
    }
   ],
   "source": [
    "params = {'idUser': 334,\n",
    "    'userName': 'Julio',\n",
    "    'idMessage': 100,\n",
    "    'idChat': 10,\n",
    "    'datetime': '2019-10-17 10:15:41',\n",
    "    'text': 'Hey!'}\n",
    "requests.post(url, data=params).text"
   ]
  },
  {
   "cell_type": "code",
   "execution_count": 41,
   "metadata": {
    "scrolled": true
   },
   "outputs": [
    {
     "data": {
      "text/plain": [
       "{0: {'User_id': 1, 'name': 'Mike Wazowski'},\n",
       " 1: {'User_id': 6, 'name': 'Danny Torrances Finger'},\n",
       " 2: {'User_id': 2, 'name': 'Leia Organa'},\n",
       " 3: {'User_id': 7, 'name': 'Danny Torrance'},\n",
       " 4: {'User_id': 4, 'name': 'Ellen Ripley'},\n",
       " 5: {'User_id': 0, 'name': 'John Wick'},\n",
       " 6: {'User_id': 5, 'name': 'J. Jonah Jameson'},\n",
       " 7: {'User_id': 3, 'name': 'Tony Stark'}}"
      ]
     },
     "execution_count": 41,
     "metadata": {},
     "output_type": "execute_result"
    }
   ],
   "source": [
    "def getusers():\n",
    "    dataus = list(collus.find({}))\n",
    "    ret = {}\n",
    "    data = {}\n",
    "    for i in range(len(dataus)):\n",
    "        data = {\n",
    "            'User_id':dataus[i].get('User_id'),\n",
    "            'name':dataus[i].get('name')\n",
    "        }\n",
    "        ret[i] = data\n",
    "    return ret\n",
    "data = getusers()\n",
    "data"
   ]
  },
  {
   "cell_type": "code",
   "execution_count": 44,
   "metadata": {},
   "outputs": [
    {
     "data": {
      "text/plain": [
       "[{'_id': {'$oid': '5de2b4683693df9affe7ee54'},\n",
       "  'User_id': 1,\n",
       "  'name': 'Mike Wazowski'},\n",
       " {'_id': {'$oid': '5de2b4683693df9affe7ee55'},\n",
       "  'User_id': 6,\n",
       "  'name': 'Danny Torrances Finger'},\n",
       " {'_id': {'$oid': '5de2b4683693df9affe7ee56'},\n",
       "  'User_id': 2,\n",
       "  'name': 'Leia Organa'},\n",
       " {'_id': {'$oid': '5de2b4683693df9affe7ee57'},\n",
       "  'User_id': 7,\n",
       "  'name': 'Danny Torrance'},\n",
       " {'_id': {'$oid': '5de2b4683693df9affe7ee58'},\n",
       "  'User_id': 4,\n",
       "  'name': 'Ellen Ripley'},\n",
       " {'_id': {'$oid': '5de2b4683693df9affe7ee59'},\n",
       "  'User_id': 0,\n",
       "  'name': 'John Wick'},\n",
       " {'_id': {'$oid': '5de2b4683693df9affe7ee5a'},\n",
       "  'User_id': 5,\n",
       "  'name': 'J. Jonah Jameson'},\n",
       " {'_id': {'$oid': '5de2b4683693df9affe7ee5b'},\n",
       "  'User_id': 3,\n",
       "  'name': 'Tony Stark'}]"
      ]
     },
     "execution_count": 44,
     "metadata": {},
     "output_type": "execute_result"
    }
   ],
   "source": [
    "data = requests.get('http://localhost:8080/users').json()\n",
    "data\n"
   ]
  },
  {
   "cell_type": "code",
   "execution_count": null,
   "metadata": {},
   "outputs": [],
   "source": []
  }
 ],
 "metadata": {
  "kernelspec": {
   "display_name": "Python 3",
   "language": "python",
   "name": "python3"
  },
  "language_info": {
   "codemirror_mode": {
    "name": "ipython",
    "version": 3
   },
   "file_extension": ".py",
   "mimetype": "text/x-python",
   "name": "python",
   "nbconvert_exporter": "python",
   "pygments_lexer": "ipython3",
   "version": "3.6.9"
  }
 },
 "nbformat": 4,
 "nbformat_minor": 2
}
