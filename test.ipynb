{
 "cells": [
  {
   "cell_type": "code",
   "execution_count": 67,
   "metadata": {},
   "outputs": [],
   "source": [
    "import pandas as pd\n",
    "import json\n",
    "from functions.mongo import connectCollection\n",
    "from bson.objectid import ObjectId\n",
    "from textblob import TextBlob\n",
    "import requests\n",
    "import matplotlib.pyplot as plt\n",
    "%matplotlib inline\n",
    "import webbrowser\n",
    "from datetime import datetime\n",
    "from nltk.tokenize import RegexpTokenizer\n",
    "from nltk.corpus import stopwords\n",
    "import pandas as pd\n",
    "import numpy as np\n",
    "from sklearn.feature_extraction.text import CountVectorizer\n",
    "from sklearn.metrics.pairwise import cosine_similarity as distance"
   ]
  },
  {
   "cell_type": "code",
   "execution_count": 99,
   "metadata": {},
   "outputs": [
    {
     "data": {
      "text/plain": [
       "<pymongo.results.InsertManyResult at 0x7f4ed4f19108>"
      ]
     },
     "execution_count": 99,
     "metadata": {},
     "output_type": "execute_result"
    }
   ],
   "source": [
    "db, coll = connectCollection('chats','messages')\n",
    "with open('./input/chats.json') as f:\n",
    "    chats_json = json.load(f)\n",
    "coll.insert_many(chats_json)"
   ]
  },
  {
   "cell_type": "code",
   "execution_count": 7,
   "metadata": {},
   "outputs": [],
   "source": [
    "data = list(coll.find({}))"
   ]
  },
  {
   "cell_type": "code",
   "execution_count": 8,
   "metadata": {},
   "outputs": [
    {
     "data": {
      "text/plain": [
       "[{'User_id': 1, 'name': 'Mike Wazowski'},\n",
       " {'User_id': 6, 'name': 'Danny Torrances Finger'},\n",
       " {'User_id': 2, 'name': 'Leia Organa'},\n",
       " {'User_id': 7, 'name': 'Danny Torrance'},\n",
       " {'User_id': 4, 'name': 'Ellen Ripley'},\n",
       " {'User_id': 0, 'name': 'John Wick'},\n",
       " {'User_id': 5, 'name': 'J. Jonah Jameson'},\n",
       " {'User_id': 3, 'name': 'Tony Stark'}]"
      ]
     },
     "execution_count": 8,
     "metadata": {},
     "output_type": "execute_result"
    }
   ],
   "source": [
    "namelst=[]\n",
    "for i in range(len(data)):\n",
    "    name = data[i]['userName']\n",
    "    userid = data[i]['idUser']\n",
    "    tup = (userid,name)\n",
    "    namelst.append(tup)\n",
    "namelst = set(namelst)\n",
    "lst = []\n",
    "for e in namelst:\n",
    "    uid = e[0]\n",
    "    name= e[1]\n",
    "    dictionary = {\n",
    "        'User_id':uid,\n",
    "        'name': name\n",
    "    }\n",
    "    lst.append(dictionary)\n",
    "lst"
   ]
  },
  {
   "cell_type": "code",
   "execution_count": 9,
   "metadata": {},
   "outputs": [],
   "source": [
    "db, collus = connectCollection('chats','users')\n",
    "with open('./output/users.json', 'w') as fp:\n",
    "    json.dump(lst, fp)"
   ]
  },
  {
   "cell_type": "code",
   "execution_count": 10,
   "metadata": {},
   "outputs": [
    {
     "data": {
      "text/plain": [
       "<pymongo.results.InsertManyResult at 0x7f03a54f8d48>"
      ]
     },
     "execution_count": 10,
     "metadata": {},
     "output_type": "execute_result"
    }
   ],
   "source": [
    "with open('./output/users.json') as f:\n",
    "    users_json = json.load(f)\n",
    "collus.insert_many(users_json)"
   ]
  },
  {
   "cell_type": "code",
   "execution_count": 11,
   "metadata": {},
   "outputs": [
    {
     "data": {
      "text/plain": [
       "{1: ObjectId('5de2b4683693df9affe7ee54'),\n",
       " 6: ObjectId('5de2b4683693df9affe7ee55'),\n",
       " 2: ObjectId('5de2b4683693df9affe7ee56'),\n",
       " 7: ObjectId('5de2b4683693df9affe7ee57'),\n",
       " 4: ObjectId('5de2b4683693df9affe7ee58'),\n",
       " 0: ObjectId('5de2b4683693df9affe7ee59'),\n",
       " 5: ObjectId('5de2b4683693df9affe7ee5a'),\n",
       " 3: ObjectId('5de2b4683693df9affe7ee5b')}"
      ]
     },
     "execution_count": 11,
     "metadata": {},
     "output_type": "execute_result"
    }
   ],
   "source": [
    "usersdata = list(collus.find({}))\n",
    "dic_ids = {}\n",
    "for i in range(len(usersdata)):\n",
    "    user = usersdata[i].get('User_id')\n",
    "    objid = usersdata[i].get('_id')\n",
    "    dic_ids[user]=objid\n",
    "dic_ids"
   ]
  },
  {
   "cell_type": "code",
   "execution_count": 12,
   "metadata": {},
   "outputs": [],
   "source": [
    "for i in range(len(data)):\n",
    "    idu = dic_ids.get(data[i]['idUser'])\n",
    "    value = {\"$set\":{'idUser':idu}}\n",
    "    coll.update_one(data[i],value)"
   ]
  },
  {
   "cell_type": "code",
   "execution_count": 13,
   "metadata": {},
   "outputs": [
    {
     "data": {
      "text/plain": [
       "{'_id': ObjectId('5de2b4613693df9affe7ee22'),\n",
       " 'idUser': ObjectId('5de2b4683693df9affe7ee59'),\n",
       " 'userName': 'John Wick',\n",
       " 'idMessage': 0,\n",
       " 'idChat': 0,\n",
       " 'datetime': '2019-10-17 10:15:41',\n",
       " 'text': 'Hey Mike, whats up??'}"
      ]
     },
     "execution_count": 13,
     "metadata": {},
     "output_type": "execute_result"
    }
   ],
   "source": [
    "db, coll = connectCollection('chats','messages')\n",
    "data = list(coll.find({}))\n",
    "data[0]"
   ]
  },
  {
   "cell_type": "code",
   "execution_count": 14,
   "metadata": {},
   "outputs": [],
   "source": [
    "chatlst = []\n",
    "for i in range(len(data)):\n",
    "    idc = data[i]['idChat']\n",
    "    name = f'chat-{idc}'\n",
    "    chatlst.append((name,idc))\n",
    "chatlst=list(set(chatlst))\n",
    "chatlst\n",
    "lst = []\n",
    "for e in chatlst:\n",
    "    idc = e[1]\n",
    "    name= e[0]\n",
    "    dictionary = {\n",
    "        'Chat_id':idc,\n",
    "        'name': name\n",
    "    }\n",
    "    lst.append(dictionary)"
   ]
  },
  {
   "cell_type": "code",
   "execution_count": 15,
   "metadata": {},
   "outputs": [],
   "source": [
    "db, collchat = connectCollection('chats','chats')\n",
    "with open('./output/chats_id.json', 'w') as fp:\n",
    "    json.dump(lst, fp)"
   ]
  },
  {
   "cell_type": "code",
   "execution_count": 16,
   "metadata": {},
   "outputs": [
    {
     "data": {
      "text/plain": [
       "<pymongo.results.InsertManyResult at 0x7f03a5535e48>"
      ]
     },
     "execution_count": 16,
     "metadata": {},
     "output_type": "execute_result"
    }
   ],
   "source": [
    "with open('./output/chats_id.json') as f:\n",
    "    chats_json = json.load(f)\n",
    "collchat.insert_many(chats_json)"
   ]
  },
  {
   "cell_type": "code",
   "execution_count": 17,
   "metadata": {},
   "outputs": [
    {
     "data": {
      "text/plain": [
       "[{'_id': ObjectId('5de2b4713693df9affe7ee5c'), 'Chat_id': 0, 'name': 'chat-0'},\n",
       " {'_id': ObjectId('5de2b4713693df9affe7ee5d'), 'Chat_id': 2, 'name': 'chat-2'},\n",
       " {'_id': ObjectId('5de2b4713693df9affe7ee5e'), 'Chat_id': 1, 'name': 'chat-1'},\n",
       " {'_id': ObjectId('5de2b4713693df9affe7ee5f'), 'Chat_id': 4, 'name': 'chat-4'},\n",
       " {'_id': ObjectId('5de2b4713693df9affe7ee60'), 'Chat_id': 3, 'name': 'chat-3'}]"
      ]
     },
     "execution_count": 17,
     "metadata": {},
     "output_type": "execute_result"
    }
   ],
   "source": [
    "datachat = list(collchat.find({}))\n",
    "datachat"
   ]
  },
  {
   "cell_type": "code",
   "execution_count": 18,
   "metadata": {},
   "outputs": [
    {
     "data": {
      "text/plain": [
       "{0: ObjectId('5de2b4713693df9affe7ee5c'),\n",
       " 2: ObjectId('5de2b4713693df9affe7ee5d'),\n",
       " 1: ObjectId('5de2b4713693df9affe7ee5e'),\n",
       " 4: ObjectId('5de2b4713693df9affe7ee5f'),\n",
       " 3: ObjectId('5de2b4713693df9affe7ee60')}"
      ]
     },
     "execution_count": 18,
     "metadata": {},
     "output_type": "execute_result"
    }
   ],
   "source": [
    "dic_ids_chat={}\n",
    "for i in range(len(datachat)):\n",
    "    chat = datachat[i].get('Chat_id')\n",
    "    objid_chat = datachat[i].get('_id')\n",
    "    dic_ids_chat[chat]=objid_chat\n",
    "dic_ids_chat"
   ]
  },
  {
   "cell_type": "code",
   "execution_count": null,
   "metadata": {},
   "outputs": [],
   "source": []
  },
  {
   "cell_type": "code",
   "execution_count": 19,
   "metadata": {},
   "outputs": [],
   "source": [
    "for i in range(len(data)):\n",
    "    idu = dic_ids_chat.get(data[i]['idChat'])\n",
    "    value = {\"$set\":{'idChat':idu}}\n",
    "    coll.update_one(data[i],value)"
   ]
  },
  {
   "cell_type": "code",
   "execution_count": 51,
   "metadata": {},
   "outputs": [],
   "source": [
    "db, coll = connectCollection('chats','messages')\n",
    "db, collus = connectCollection('chats','users')\n",
    "db, collchat = connectCollection('chats','chats')\n",
    "data = list(coll.find({}))\n",
    "datatachat = list(collchat.find({}))\n",
    "usersdata = list(collus.find({}))"
   ]
  },
  {
   "cell_type": "code",
   "execution_count": 36,
   "metadata": {},
   "outputs": [
    {
     "data": {
      "text/plain": [
       "ObjectId('5de2b4713693df9affe7ee5c')"
      ]
     },
     "execution_count": 36,
     "metadata": {},
     "output_type": "execute_result"
    }
   ],
   "source": [
    "chatid_data = list(collchat.find({'Chat_id':0}))\n",
    "chatid_data[0].get('_id')"
   ]
  },
  {
   "cell_type": "code",
   "execution_count": 37,
   "metadata": {},
   "outputs": [
    {
     "data": {
      "text/plain": [
       "[]"
      ]
     },
     "execution_count": 37,
     "metadata": {},
     "output_type": "execute_result"
    }
   ],
   "source": [
    "chat_data = list(coll.find({'idChat':ObjectId('5de262ec424383d703c69e3f')}))\n",
    "ret = []\n",
    "for i in range(len(chat_data)):\n",
    "    name = chat_data[i].get('userName')\n",
    "    message = chat_data[i].get('text')\n",
    "    date = chat_data[i].get('datetime')\n",
    "    dic = {\n",
    "        'name':name,\n",
    "        'message':message,\n",
    "        'date':date\n",
    "    }\n",
    "    ret.append(dic)\n",
    "ret"
   ]
  },
  {
   "cell_type": "code",
   "execution_count": null,
   "metadata": {},
   "outputs": [],
   "source": []
  },
  {
   "cell_type": "code",
   "execution_count": 52,
   "metadata": {},
   "outputs": [
    {
     "data": {
      "text/plain": [
       "{'idUser': {'$oid': '5de2b4683693df9affe7ee5b'},\n",
       " 'userName': 'Tony Stark',\n",
       " 'idMessage': 50,\n",
       " 'idChat': '{\"$oid\": \"5de3d7735ea878aa50751c57\"}',\n",
       " 'datetime': '2019-12-01 16:08:35',\n",
       " 'text': 'Hey!',\n",
       " '_id': {'$oid': '5de3d7735ea878aa50751c58'}}"
      ]
     },
     "execution_count": 52,
     "metadata": {},
     "output_type": "execute_result"
    }
   ],
   "source": [
    "params = {'idUser': 3,\n",
    "    'userName': 'T.stark',\n",
    "    'idChat': 10,\n",
    "    'text': 'Hey!'}\n",
    "url = 'http://localhost:8080/message/add'\n",
    "requests.post(url, data=params).json()"
   ]
  },
  {
   "cell_type": "code",
   "execution_count": 11,
   "metadata": {
    "scrolled": true
   },
   "outputs": [
    {
     "data": {
      "text/plain": [
       "{'$oid': '5de3b49890fdb3d640dadd0c'}"
      ]
     },
     "execution_count": 11,
     "metadata": {},
     "output_type": "execute_result"
    }
   ],
   "source": [
    "nombre_nuevo = {'userName': 'Paquito'}\n",
    "us = requests.post(\"http://localhost:8080/user/create\", data=nombre_nuevo).json()\n",
    "#us = us.get('$oid')\n",
    "us"
   ]
  },
  {
   "cell_type": "code",
   "execution_count": 57,
   "metadata": {},
   "outputs": [
    {
     "data": {
      "text/plain": [
       "<Response [200]>"
      ]
     },
     "execution_count": 57,
     "metadata": {},
     "output_type": "execute_result"
    }
   ],
   "source": [
    "nombre_chat = {'name': 'fs'}\n",
    "requests.post(\"http://localhost:8080/chat/create\", data=nombre_chat)\n"
   ]
  },
  {
   "cell_type": "code",
   "execution_count": 16,
   "metadata": {},
   "outputs": [
    {
     "data": {
      "text/plain": [
       "<Response [200]>"
      ]
     },
     "execution_count": 16,
     "metadata": {},
     "output_type": "execute_result"
    }
   ],
   "source": [
    "requests.post(\"http://localhost:8080/chat/create\")"
   ]
  },
  {
   "cell_type": "code",
   "execution_count": 17,
   "metadata": {},
   "outputs": [
    {
     "data": {
      "text/plain": [
       "<Response [200]>"
      ]
     },
     "execution_count": 17,
     "metadata": {},
     "output_type": "execute_result"
    }
   ],
   "source": [
    "requests.post(\"http://localhost:8080/user/create\")"
   ]
  },
  {
   "cell_type": "code",
   "execution_count": 60,
   "metadata": {},
   "outputs": [
    {
     "name": "stdout",
     "output_type": "stream",
     "text": [
      "[{'_id': ObjectId('5de2b4683693df9affe7ee54'), 'User_id': 1, 'name': 'Mike Wazowski'}] []\n"
     ]
    }
   ],
   "source": [
    "iduser = list(collus.find({'User_id':1}))\n",
    "idchat = list(collchat.find({'Chat_id':10}))\n",
    "print(iduser,idchat)"
   ]
  },
  {
   "cell_type": "code",
   "execution_count": 25,
   "metadata": {},
   "outputs": [
    {
     "name": "stdout",
     "output_type": "stream",
     "text": [
      "1\n"
     ]
    }
   ],
   "source": [
    "if len(iduser) == 0:\n",
    "    #create user\n",
    "    pass\n",
    "else:\n",
    "    print(iduser[0].get('User_id'))\n",
    "    #buscar el objid de user para asignarlo a la db"
   ]
  },
  {
   "cell_type": "code",
   "execution_count": 44,
   "metadata": {},
   "outputs": [
    {
     "data": {
      "text/plain": [
       "{'mess-10': {'Leia Organa': 'Im so angry right now!'},\n",
       " 'mess-11': {'Tony Stark': 'I saw you this morning. You shouldnt get so upset. ❤️'},\n",
       " 'mess-12': {'Leia Organa': 'Impossible! Cant do it! Just cant! He pissed me off so much.'},\n",
       " 'mess-13': {'Tony Stark': 'Dont get so frustrated, Leia. Remember what German said.'},\n",
       " 'mess-14': {'Leia Organa': 'But how am I suposed to fix the facial recognition system if it doesnt even work?'},\n",
       " 'mess-15': {'Tony Stark': 'Im sure you will find a way.'},\n",
       " 'mess-16': {'Leia Organa': 'And who the hell is Tony? \\U0001f92f️'},\n",
       " 'mess-17': {'Tony Stark': 'I am Iron Man'},\n",
       " 'mess-18': {'Leia Organa': 'Oh shit. I think youre friends with my brother.'},\n",
       " 'mess-19': {'Tony Stark': 'Uh-Oh. Better fix that quickly.'}}"
      ]
     },
     "execution_count": 44,
     "metadata": {},
     "output_type": "execute_result"
    }
   ],
   "source": [
    "data = requests.get('http://localhost:8080/chat/1/list').json()\n",
    "data\n"
   ]
  },
  {
   "cell_type": "code",
   "execution_count": 45,
   "metadata": {},
   "outputs": [
    {
     "data": {
      "text/plain": [
       "{'mess-10': {'Leia Organa': 'Im so angry right now!'},\n",
       " 'mess-11': {'Tony Stark': 'I saw you this morning. You shouldnt get so upset. ❤️'},\n",
       " 'mess-12': {'Leia Organa': 'Impossible! Cant do it! Just cant! He pissed me off so much.'},\n",
       " 'mess-13': {'Tony Stark': 'Dont get so frustrated, Leia. Remember what German said.'},\n",
       " 'mess-14': {'Leia Organa': 'But how am I suposed to fix the facial recognition system if it doesnt even work?'},\n",
       " 'mess-15': {'Tony Stark': 'Im sure you will find a way.'},\n",
       " 'mess-16': {'Leia Organa': 'And who the hell is Tony? \\U0001f92f️'},\n",
       " 'mess-17': {'Tony Stark': 'I am Iron Man'},\n",
       " 'mess-18': {'Leia Organa': 'Oh shit. I think youre friends with my brother.'},\n",
       " 'mess-19': {'Tony Stark': 'Uh-Oh. Better fix that quickly.'},\n",
       " 'Sensitivity': {'polarity': -0.010476190476190472,\n",
       "  'subjectivity': 0.36567460317460315}}"
      ]
     },
     "execution_count": 45,
     "metadata": {},
     "output_type": "execute_result"
    }
   ],
   "source": [
    "polarity = []\n",
    "subjectivity = []\n",
    "labels = []\n",
    "for i in data:\n",
    "    labels.append(i)\n",
    "    for key in data[i]:\n",
    "        data2 = data[i][key]\n",
    "        sent = TextBlob(data2).sentiment\n",
    "        polarity.append(sent.polarity)\n",
    "        subjectivity.append(sent.subjectivity)\n",
    "polarityavg = sum(polarity)/len(polarity)\n",
    "subjectivityavg = sum(subjectivity)/len(subjectivity)\n",
    "data['Sensitivity'] = {\n",
    "    'polarity':polarityavg,\n",
    "    'subjectivity':subjectivityavg\n",
    "}\n",
    "data"
   ]
  },
  {
   "cell_type": "code",
   "execution_count": 46,
   "metadata": {},
   "outputs": [
    {
     "data": {
      "text/plain": [
       "True"
      ]
     },
     "execution_count": 46,
     "metadata": {},
     "output_type": "execute_result"
    },
    {
     "data": {
      "image/png": "[encoded data removed]",
      "text/plain": [
       "<Figure size 432x288 with 1 Axes>"
      ]
     },
     "metadata": {
      "needs_background": "light"
     },
     "output_type": "display_data"
    }
   ],
   "source": [
    "time=datetime.now().strftime('%Y-%m-%d %H:%M:%S')\n",
    "plt.plot(polarity)\n",
    "plt.plot(subjectivity)\n",
    "plt.legend(['Polarity','subjectivit'])\n",
    "plt.xlabel('Messages')\n",
    "plt.ylabel('Value')\n",
    "plt.xticks(range(len(subjectivity)),labels=labels, rotation=90)\n",
    "name = f'Sentiment_{time}'\n",
    "plt.savefig(f'{name}.png')\n",
    "html = f'<img src=\\'{name}.png\\'>'\n",
    "with open(f'{name}.html','w') as f:\n",
    "    f.write(html)\n",
    "webbrowser.open(f'./{name}.html', new=2)\n",
    "\n",
    "\n",
    "\n"
   ]
  },
  {
   "cell_type": "code",
   "execution_count": 50,
   "metadata": {},
   "outputs": [
    {
     "data": {
      "text/plain": [
       "{'mess-0': {'John Wick': 'Hey Mike, whats up??'},\n",
       " 'mess-1': {'Mike Wazowski': 'Dude!!! 😀️ Did you watch the game last night?'},\n",
       " 'mess-2': {'John Wick': 'No, had to work. How was it?'},\n",
       " 'mess-3': {'Mike Wazowski': 'Awesome! Boyander scored 3 goals!'},\n",
       " 'mess-4': {'John Wick': 'No way! 😮️'},\n",
       " 'mess-5': {'Mike Wazowski': 'Way...'},\n",
       " 'mess-6': {'John Wick': 'I bet people went crazy'},\n",
       " 'mess-7': {'Mike Wazowski': 'For sure. We stayed at KuboLoco until 6AM.'},\n",
       " 'mess-8': {'John Wick': 'Motherfucker! Hungover? 😵️'},\n",
       " 'mess-9': {'Mike Wazowski': 'Dead, burried and still suffering! \\U0001f92e️'},\n",
       " 'sentiment': {'polarity': 0.045000000000000005,\n",
       "  'subjectivity': 0.3422222222222222}}"
      ]
     },
     "execution_count": 50,
     "metadata": {},
     "output_type": "execute_result"
    }
   ],
   "source": [
    "data = requests.get('http://localhost:8080/chat/0/sentiment').json()\n",
    "data"
   ]
  },
  {
   "cell_type": "code",
   "execution_count": 177,
   "metadata": {},
   "outputs": [
    {
     "name": "stdout",
     "output_type": "stream",
     "text": [
      "Hey Mike, whats up??\n",
      "Dude!!! 😀️ Did you watch the game last night?\n",
      "No, had to work. How was it?\n",
      "Awesome! Boyander scored 3 goals!\n",
      "No way! 😮️\n",
      "Way...\n",
      "I bet people went crazy\n",
      "For sure. We stayed at KuboLoco until 6AM.\n",
      "Motherfucker! Hungover? 😵️\n",
      "Dead, burried and still suffering! 🤮️\n",
      "0.045000000000000005\n",
      "0.3422222222222222\n"
     ]
    }
   ],
   "source": [
    "for e in data:\n",
    "    data[e]\n",
    "    for el in data[e]:\n",
    "        print(data[e][el])"
   ]
  },
  {
   "cell_type": "code",
   "execution_count": 72,
   "metadata": {},
   "outputs": [
    {
     "data": {
      "text/plain": [
       "'Danny Torrances Finger'"
      ]
     },
     "execution_count": 72,
     "metadata": {},
     "output_type": "execute_result"
    }
   ],
   "source": []
  },
  {
   "cell_type": "code",
   "execution_count": 82,
   "metadata": {},
   "outputs": [
    {
     "name": "stdout",
     "output_type": "stream",
     "text": [
      "{'recommended_users': ['John Wick', 'J. Jonah Jameson', 'Leia Organa']}\n"
     ]
    }
   ],
   "source": [
    "data = list(coll.find({}))\n",
    "name = \"Tony Stark\"\n",
    "n = name\n",
    "if name not in list(set([e['userName'] for e in data])):\n",
    "    error = 'Sorry, this user does not exist in the database'\n",
    "    print({'Exception':error}) \n",
    "tokenizer = RegexpTokenizer(r'\\w+')\n",
    "stop_words = set(stopwords.words('english'))       \n",
    "TokensDict = {}\n",
    "for name in list(set([e['userName'] for e in data])):\n",
    "    usersData = list(coll.find({'userName': name}))\n",
    "    usersTokens = [tokenizer.tokenize(e['text']) for e in usersData]\n",
    "    usersTokens_clean = [word for message in usersTokens for word in message if word not in stop_words]\n",
    "    TokensDict[name] = ' '.join(usersTokens_clean)\n",
    "count_vectorizer = CountVectorizer()\n",
    "count_vectorizer = CountVectorizer()\n",
    "sparse_matrix = count_vectorizer.fit_transform(TokensDict.values())\n",
    "Tokens_term_matrix = sparse_matrix.todense()\n",
    "df = pd.DataFrame(Tokens_term_matrix,columns=count_vectorizer.get_feature_names(),index=TokensDict.keys())\n",
    "similarity_matrix = distance(df, df)\n",
    "sim_df = pd.DataFrame(similarity_matrix, columns=TokensDict.keys(), index=TokensDict.keys())\n",
    "np.fill_diagonal(sim_df.values, 0)\n",
    "print({'recommended_users': [e for e in list(sim_df[n].sort_values(ascending=False)[0:3].index)]}) "
   ]
  },
  {
   "cell_type": "code",
   "execution_count": 81,
   "metadata": {},
   "outputs": [
    {
     "data": {
      "text/html": [
       "<div>\n",
       "<style scoped>\n",
       "    .dataframe tbody tr th:only-of-type {\n",
       "        vertical-align: middle;\n",
       "    }\n",
       "\n",
       "    .dataframe tbody tr th {\n",
       "        vertical-align: top;\n",
       "    }\n",
       "\n",
       "    .dataframe thead th {\n",
       "        text-align: right;\n",
       "    }\n",
       "</style>\n",
       "<table border=\"1\" class=\"dataframe\">\n",
       "  <thead>\n",
       "    <tr style=\"text-align: right;\">\n",
       "      <th></th>\n",
       "      <th>Leia Organa</th>\n",
       "      <th>Tony Stark</th>\n",
       "      <th>Danny Torrance</th>\n",
       "      <th>Ellen Ripley</th>\n",
       "      <th>J. Jonah Jameson</th>\n",
       "      <th>John Wick</th>\n",
       "      <th>Mike Wazowski</th>\n",
       "      <th>Danny Torrances Finger</th>\n",
       "    </tr>\n",
       "  </thead>\n",
       "  <tbody>\n",
       "    <tr>\n",
       "      <th>Leia Organa</th>\n",
       "      <td>0.000000</td>\n",
       "      <td>0.107417</td>\n",
       "      <td>0.000000</td>\n",
       "      <td>0.063564</td>\n",
       "      <td>0.026082</td>\n",
       "      <td>0.063564</td>\n",
       "      <td>0.103280</td>\n",
       "      <td>0.000000</td>\n",
       "    </tr>\n",
       "    <tr>\n",
       "      <th>Tony Stark</th>\n",
       "      <td>0.107417</td>\n",
       "      <td>0.000000</td>\n",
       "      <td>0.000000</td>\n",
       "      <td>0.068279</td>\n",
       "      <td>0.112066</td>\n",
       "      <td>0.136558</td>\n",
       "      <td>0.055470</td>\n",
       "      <td>0.000000</td>\n",
       "    </tr>\n",
       "    <tr>\n",
       "      <th>Danny Torrance</th>\n",
       "      <td>0.000000</td>\n",
       "      <td>0.000000</td>\n",
       "      <td>0.000000</td>\n",
       "      <td>0.032325</td>\n",
       "      <td>0.000000</td>\n",
       "      <td>0.096976</td>\n",
       "      <td>0.105045</td>\n",
       "      <td>0.131306</td>\n",
       "    </tr>\n",
       "    <tr>\n",
       "      <th>Ellen Ripley</th>\n",
       "      <td>0.063564</td>\n",
       "      <td>0.068279</td>\n",
       "      <td>0.032325</td>\n",
       "      <td>0.000000</td>\n",
       "      <td>0.149209</td>\n",
       "      <td>0.000000</td>\n",
       "      <td>0.024618</td>\n",
       "      <td>0.000000</td>\n",
       "    </tr>\n",
       "    <tr>\n",
       "      <th>J. Jonah Jameson</th>\n",
       "      <td>0.026082</td>\n",
       "      <td>0.112066</td>\n",
       "      <td>0.000000</td>\n",
       "      <td>0.149209</td>\n",
       "      <td>0.000000</td>\n",
       "      <td>0.000000</td>\n",
       "      <td>0.020203</td>\n",
       "      <td>0.000000</td>\n",
       "    </tr>\n",
       "    <tr>\n",
       "      <th>John Wick</th>\n",
       "      <td>0.063564</td>\n",
       "      <td>0.136558</td>\n",
       "      <td>0.096976</td>\n",
       "      <td>0.000000</td>\n",
       "      <td>0.000000</td>\n",
       "      <td>0.000000</td>\n",
       "      <td>0.098473</td>\n",
       "      <td>0.000000</td>\n",
       "    </tr>\n",
       "    <tr>\n",
       "      <th>Mike Wazowski</th>\n",
       "      <td>0.103280</td>\n",
       "      <td>0.055470</td>\n",
       "      <td>0.105045</td>\n",
       "      <td>0.024618</td>\n",
       "      <td>0.020203</td>\n",
       "      <td>0.098473</td>\n",
       "      <td>0.000000</td>\n",
       "      <td>0.000000</td>\n",
       "    </tr>\n",
       "    <tr>\n",
       "      <th>Danny Torrances Finger</th>\n",
       "      <td>0.000000</td>\n",
       "      <td>0.000000</td>\n",
       "      <td>0.131306</td>\n",
       "      <td>0.000000</td>\n",
       "      <td>0.000000</td>\n",
       "      <td>0.000000</td>\n",
       "      <td>0.000000</td>\n",
       "      <td>0.000000</td>\n",
       "    </tr>\n",
       "  </tbody>\n",
       "</table>\n",
       "</div>"
      ],
      "text/plain": [
       "                        Leia Organa  Tony Stark  Danny Torrance  Ellen Ripley  \\\n",
       "Leia Organa                0.000000    0.107417        0.000000      0.063564   \n",
       "Tony Stark                 0.107417    0.000000        0.000000      0.068279   \n",
       "Danny Torrance             0.000000    0.000000        0.000000      0.032325   \n",
       "Ellen Ripley               0.063564    0.068279        0.032325      0.000000   \n",
       "J. Jonah Jameson           0.026082    0.112066        0.000000      0.149209   \n",
       "John Wick                  0.063564    0.136558        0.096976      0.000000   \n",
       "Mike Wazowski              0.103280    0.055470        0.105045      0.024618   \n",
       "Danny Torrances Finger     0.000000    0.000000        0.131306      0.000000   \n",
       "\n",
       "                        J. Jonah Jameson  John Wick  Mike Wazowski  \\\n",
       "Leia Organa                     0.026082   0.063564       0.103280   \n",
       "Tony Stark                      0.112066   0.136558       0.055470   \n",
       "Danny Torrance                  0.000000   0.096976       0.105045   \n",
       "Ellen Ripley                    0.149209   0.000000       0.024618   \n",
       "J. Jonah Jameson                0.000000   0.000000       0.020203   \n",
       "John Wick                       0.000000   0.000000       0.098473   \n",
       "Mike Wazowski                   0.020203   0.098473       0.000000   \n",
       "Danny Torrances Finger          0.000000   0.000000       0.000000   \n",
       "\n",
       "                        Danny Torrances Finger  \n",
       "Leia Organa                           0.000000  \n",
       "Tony Stark                            0.000000  \n",
       "Danny Torrance                        0.131306  \n",
       "Ellen Ripley                          0.000000  \n",
       "J. Jonah Jameson                      0.000000  \n",
       "John Wick                             0.000000  \n",
       "Mike Wazowski                         0.000000  \n",
       "Danny Torrances Finger                0.000000  "
      ]
     },
     "execution_count": 81,
     "metadata": {},
     "output_type": "execute_result"
    }
   ],
   "source": [
    "sim_df"
   ]
  },
  {
   "cell_type": "code",
   "execution_count": null,
   "metadata": {},
   "outputs": [],
   "source": []
  }
 ],
 "metadata": {
  "kernelspec": {
   "display_name": "Python 3",
   "language": "python",
   "name": "python3"
  },
  "language_info": {
   "codemirror_mode": {
    "name": "ipython",
    "version": 3
   },
   "file_extension": ".py",
   "mimetype": "text/x-python",
   "name": "python",
   "nbconvert_exporter": "python",
   "pygments_lexer": "ipython3",
   "version": "3.6.9"
  }
 },
 "nbformat": 4,
 "nbformat_minor": 2
}
